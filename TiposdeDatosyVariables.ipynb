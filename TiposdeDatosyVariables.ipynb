{
 "cells": [
  {
   "cell_type": "markdown",
   "id": "83ce42ac-7b08-487c-a188-5793f766496f",
   "metadata": {},
   "source": [
    "# Panorama\n",
    "int - Integer / Enteros\n",
    "\n",
    "float - Floats / Numeros con decimales\n",
    "\n",
    "complex - Complex / Complejos (Numeros con parte real e imaginaria)\n",
    "\n",
    "bool - Buelanos / Buleanos (valores logicos true o false)\n",
    "\n",
    "str - Strings / Cadenas, textos"
   ]
  },
  {
   "cell_type": "code",
   "execution_count": null,
   "id": "cf6f82a5-d3de-44ab-b364-457b52c88c50",
   "metadata": {},
   "outputs": [],
   "source": [
    "# int - Integer / Enteros"
   ]
  },
  {
   "cell_type": "code",
   "execution_count": null,
   "id": "74b38729-f014-4e02-b448-fc8b112a6047",
   "metadata": {},
   "outputs": [],
   "source": [
    "my_integer = 11\n",
    "print(\"El valor de my_integer es: \", my_integer)\n",
    "print(\"El tipo de dato de my_integer es: \", type(my_integer))"
   ]
  },
  {
   "cell_type": "code",
   "execution_count": null,
   "id": "021a2ee4-0b6b-4024-83bb-4c22ed30c73b",
   "metadata": {},
   "outputs": [],
   "source": [
    "my_integer = 2022\n",
    "print(\"El valor de my_integer es: \", my_integer)\n",
    "print(\"El tipo de dato de my_integer es: \", type(my_integer))"
   ]
  },
  {
   "cell_type": "code",
   "execution_count": null,
   "id": "fcc1a7c4-e7b1-430b-999c-d1011565387c",
   "metadata": {},
   "outputs": [],
   "source": [
    "my_integer = 57831\n",
    "print(\"El valor de my_integer es: \", my_integer)\n",
    "print(\"El tipo de dato de my_integer es: \", type(my_integer))"
   ]
  },
  {
   "cell_type": "code",
   "execution_count": null,
   "id": "ede3f20c-51d0-4d92-b090-2bcc0eaafe61",
   "metadata": {},
   "outputs": [],
   "source": [
    "# Error\n",
    "my_integer = 45668s\n",
    "print(\"El valor de my_integer es: \", my_integer)\n",
    "print(\"El tipo de dato de my_integer es: \", type(my_integer))"
   ]
  },
  {
   "cell_type": "code",
   "execution_count": null,
   "id": "8c419483-c428-45f9-845a-ddfc722a55f9",
   "metadata": {},
   "outputs": [],
   "source": [
    "# Error\n",
    "my_integer = 112345@\n",
    "print(\"El valor de my_integer es: \", my_integer)\n",
    "print(\"El tipo de dato de my_integer es: \", type(my_integer))"
   ]
  },
  {
   "cell_type": "markdown",
   "id": "578ae616-b1eb-4555-bb3d-af9df54724db",
   "metadata": {},
   "source": [
    "# float - Floats / Numeros con decimales"
   ]
  },
  {
   "cell_type": "code",
   "execution_count": null,
   "id": "2dccc675-6fa7-49b4-b64c-0bccd871db69",
   "metadata": {},
   "outputs": [],
   "source": [
    "my_float = 11.1\n",
    "print(\"El valor de my_integer es: \", my_float)\n",
    "print(\"El tipo de dato de my_integer es: \", type(my_float))"
   ]
  },
  {
   "cell_type": "code",
   "execution_count": null,
   "id": "72f684ab-591a-4170-8999-4d36d041e898",
   "metadata": {},
   "outputs": [],
   "source": [
    "my_float = 11.0\n",
    "print(\"El valor de my_integer es: \", my_float)\n",
    "print(\"El tipo de dato de my_float es: \", type(my_float))"
   ]
  },
  {
   "cell_type": "code",
   "execution_count": null,
   "id": "21c4f93b-1541-4583-89f1-28c86a4bc98f",
   "metadata": {},
   "outputs": [],
   "source": [
    "# Error\n",
    "my_float = 11.1d\n",
    "print(\"El valor de my_integer es: \", my_float)\n",
    "print(\"El tipo de dato de my_integer es: \", type(my_float))"
   ]
  },
  {
   "cell_type": "code",
   "execution_count": null,
   "id": "4345197c-a355-4b48-b0ec-d8300d1dba90",
   "metadata": {},
   "outputs": [],
   "source": [
    "# notacion cientifica\n",
    "my_float = 2e3\n",
    "print(\"El valor de my_integer es: \", my_float)\n",
    "print(\"El tipo de dato de my_integer es: \", type(my_float))"
   ]
  },
  {
   "cell_type": "code",
   "execution_count": null,
   "id": "2ae13888-2375-4252-9494-94b38af01304",
   "metadata": {},
   "outputs": [],
   "source": [
    "my_float = 2e-3\n",
    "print(\"El valor de my_integer es: \", my_float)\n",
    "print(\"El tipo de dato de my_integer es: \", type(my_float))"
   ]
  },
  {
   "cell_type": "markdown",
   "id": "c7b90871-61dc-4470-98af-2275d0c23015",
   "metadata": {},
   "source": [
    "# complex - Complex / Complejos (Numeros con parte real e imaginaria)\n",
    "\n",
    "complex = x + yj\n",
    "\n",
    "x = parte real\n",
    "\n",
    "yj = parte imaginaria"
   ]
  },
  {
   "cell_type": "code",
   "execution_count": null,
   "id": "d72e0aed-2caa-4baa-aced-d5c3f867b100",
   "metadata": {},
   "outputs": [],
   "source": [
    "my_complex = 3 + 9j\n",
    "print(\"El valor de my_integer es: \", my_complex)\n",
    "print(\"El tipo de dato de my_complex es: \", type(my_complex))"
   ]
  },
  {
   "cell_type": "code",
   "execution_count": null,
   "id": "4f9e74be-98bb-4f28-9cd3-39acbbb2d46b",
   "metadata": {},
   "outputs": [],
   "source": [
    "my_complex = 2 + 5j\n",
    "print(\"El valor de my_integer es: \", my_complex)\n",
    "print(\"El tipo de dato de my_integer es: \", type(my_complex))"
   ]
  },
  {
   "cell_type": "markdown",
   "id": "0d9dfc55-43fb-462a-ab16-bcd92ed5398c",
   "metadata": {},
   "source": [
    "# bool - Bulean (True - False) / Valores logicos (Verdadero - Falso)\n"
   ]
  },
  {
   "cell_type": "code",
   "execution_count": null,
   "id": "11753d84-656f-43ff-b7ae-ca2ccc3b279e",
   "metadata": {},
   "outputs": [],
   "source": [
    "my_boolean = False\n",
    "print(\"El valor de my_integer es: \", my_boolean)\n",
    "print(\"El tipo de dato de my_integer es: \", type(my_boolean))"
   ]
  },
  {
   "cell_type": "code",
   "execution_count": null,
   "id": "d249defe-ceb4-4161-8b65-329a0c4ec7b0",
   "metadata": {},
   "outputs": [],
   "source": [
    "my_boolean = True\n",
    "print(\"El valor de my_integer es: \", my_boolean)\n",
    "print(\"El tipo de dato de my_boolean es: \", type(my_boolean))"
   ]
  },
  {
   "cell_type": "code",
   "execution_count": null,
   "id": "3cb93c34-ad8a-44f8-b14c-57a1bc8efcf8",
   "metadata": {},
   "outputs": [],
   "source": [
    "# True = 1\n",
    "# False = 0"
   ]
  },
  {
   "cell_type": "code",
   "execution_count": null,
   "id": "111d97b8-6f35-4701-8ff3-75aae8e81844",
   "metadata": {},
   "outputs": [],
   "source": [
    "print(True + True + True)"
   ]
  },
  {
   "cell_type": "code",
   "execution_count": null,
   "id": "b1291931-c43e-4ad0-ba77-e220aea553e7",
   "metadata": {},
   "outputs": [],
   "source": [
    "print(False + True)"
   ]
  },
  {
   "cell_type": "code",
   "execution_count": null,
   "id": "f132f15b-aede-4be3-8649-de73cc7d610f",
   "metadata": {},
   "outputs": [],
   "source": [
    "print( False + False + False )"
   ]
  },
  {
   "cell_type": "code",
   "execution_count": null,
   "id": "902288c3-ca29-48dd-adab-badbfc1b9a38",
   "metadata": {},
   "outputs": [],
   "source": [
    "print(True + True - True)"
   ]
  },
  {
   "cell_type": "code",
   "execution_count": null,
   "id": "951bf341-7f76-4c1b-8fd9-d2f9a9e628da",
   "metadata": {},
   "outputs": [],
   "source": [
    "print(True - False)"
   ]
  },
  {
   "cell_type": "markdown",
   "id": "eca76401-8216-4750-bb49-67b100c4cc90",
   "metadata": {},
   "source": [
    "# str - String / Cadenas, textos"
   ]
  },
  {
   "cell_type": "code",
   "execution_count": null,
   "id": "70e49a6a-f075-4bc4-8011-2eee5fa7fbc6",
   "metadata": {},
   "outputs": [],
   "source": [
    "my_str = \"Hola\"\n",
    "print(\"El valor de my_integer es: \", my_str)\n",
    "print(\"El tipo de dato de my_str es: \", type(my_str))"
   ]
  },
  {
   "cell_type": "code",
   "execution_count": null,
   "id": "e6646dfb-331b-43b6-808f-024e63ba91f6",
   "metadata": {},
   "outputs": [],
   "source": [
    "my_str = \"Curso de EBAC\"\n",
    "print(\"El valor de my_integer es: \", my_str)\n",
    "print(\"El tipo de dato de my_str es: \", type(my_str))"
   ]
  },
  {
   "cell_type": "code",
   "execution_count": null,
   "id": "84870ef8-50b9-4dcb-a2a6-119048de7c58",
   "metadata": {},
   "outputs": [],
   "source": [
    "my_str = \"Aprendiendo a usar string o cadenas o textos\"\n",
    "print(\"El valor de my_integer es: \", my_str)\n",
    "print(\"El tipo de dato de my_str es: \", type(my_str))"
   ]
  },
  {
   "cell_type": "code",
   "execution_count": null,
   "id": "cb00ad06-edca-4687-989e-3278e83c428e",
   "metadata": {},
   "outputs": [],
   "source": [
    "my_str = 'Aprendiendo a usar string o cadenas o textos'\n",
    "print(\"El valor de my_integer es: \", my_str)\n",
    "print(\"El tipo de dato de my_str es: \", type(my_str))"
   ]
  },
  {
   "cell_type": "code",
   "execution_count": null,
   "id": "6ae69d4d-3366-49aa-ab62-870c7bf224ba",
   "metadata": {},
   "outputs": [],
   "source": [
    "my_str = \"\"\"\n",
    "Es un cadena de multiples lineas /n\n",
    "Como puedes ver es genial para textos mas largos\n",
    "¿Puedes imaginar cuantas cosas podrias hacer manejando texto e internet?\n",
    "\"\"\"\n",
    "print(\"El valor de my_integer es: \", my_str)\n",
    "print(\"El tipo de dato de my_str es: \", type(my_str))"
   ]
  },
  {
   "cell_type": "code",
   "execution_count": null,
   "id": "4eb3835e-05d8-4d90-b843-326e9bb5a53d",
   "metadata": {},
   "outputs": [],
   "source": [
    "print(my_str)"
   ]
  },
  {
   "cell_type": "markdown",
   "id": "bc063db8-d57a-418e-b841-43735ba07b57",
   "metadata": {},
   "source": [
    "# Variables\n",
    "\n",
    "### ¿Que es una variable? \n",
    "- Son un espacio temporal para guardar un valor con un nombre especifico\n",
    "- No hay necesidad de declarar el tipo de dato explicitamente\n",
    "- Python es un lenguaje tipado dinamicamente, lo que quiere decir que el tipo de dato se define mientras corre el programa\n",
    "- Las variables en Python funcionan diferente que en otros lenguajes de programación\n",
    "- No necesitamos crear las variables, solo asignamos un nombre a un valor usando el operador de asignacion\n",
    "\n",
    "  ## Tipos de variables:\n",
    "\n",
    "- Varialbes Globales: Son aquellas que se usaran para todo el programa\n",
    "- Variables Locales: Son aquilas que se van a usar en un bloque especifico"
   ]
  },
  {
   "cell_type": "markdown",
   "id": "9d4bdcea-c8ee-44f0-b285-a8e5eddcb169",
   "metadata": {},
   "source": [
    "# Variables Globales\n",
    "- Declaramos variables globales afuera de funciones\n",
    "- El valor de la variable puede ser constante para todo el programa\n",
    "- Cualquier funcion podra acceder a estas variables\n",
    "- Podemos decir que las variables globales tienen un alcance global\n",
    "- Normalmente son mas usadas para constantes\n",
    "- Las variables globales mantienen sus valores a travez de la ejecucion completa de tu programa\n",
    "- Una variable global puede ser accesada por cualquier funcion"
   ]
  },
  {
   "cell_type": "code",
   "execution_count": null,
   "id": "c848b090-4cf7-4596-a7db-024674504a39",
   "metadata": {},
   "outputs": [],
   "source": [
    "# Variable Global\n",
    "my_global_variable = 50\n",
    "\n",
    "def my_function_1 ():\n",
    "    pass\n",
    "\n",
    "def my_function_2 ():\n",
    "    pass"
   ]
  },
  {
   "cell_type": "code",
   "execution_count": null,
   "id": "5cd7b2e0-2d1a-4eff-b328-4b4bff018ea0",
   "metadata": {},
   "outputs": [],
   "source": [
    "# Variables Locales\n",
    "\n",
    "def my_function_1 ():\n",
    "    my_local_variable = 5\n",
    "\n",
    "def my_function_2 ():\n",
    "    my_local_variable = 35"
   ]
  },
  {
   "cell_type": "code",
   "execution_count": null,
   "id": "e49db0f7-4f84-4370-9881-8b99753ae1fa",
   "metadata": {},
   "outputs": [],
   "source": [
    "# Variable Global\n",
    "my_global_variable = 50\n",
    "\n",
    "def my_function_1 ():\n",
    "    print(\"my_function_1 - El valor de my_global_variable es: \", my_global_variable)\n",
    "\n",
    "def my_function_2 ():\n",
    "    print(\"my_function_2 - El valor de my_global_variable es: \", my_global_variable)"
   ]
  },
  {
   "cell_type": "code",
   "execution_count": null,
   "id": "0a21fa14-af5e-4f06-8d65-f499587918cd",
   "metadata": {},
   "outputs": [],
   "source": [
    "my_function_1 ()"
   ]
  },
  {
   "cell_type": "code",
   "execution_count": null,
   "id": "63b3dca8-3b65-4c2c-98e1-27bbaf32609f",
   "metadata": {},
   "outputs": [],
   "source": [
    "my_function_2 ()"
   ]
  },
  {
   "cell_type": "code",
   "execution_count": null,
   "id": "8ffb9279-2f47-4068-99bf-4ef5c501b8e8",
   "metadata": {},
   "outputs": [],
   "source": [
    "# Preferencia al valor local y despues al global\n",
    "my_variable = 50 # Global\n",
    "\n",
    "def my_function_1 ():\n",
    "    my_variable = 10 # Local\n",
    "    print(\"my_function_1 - El valor de my_global_variable es: \", my_variable)\n",
    "\n",
    "def my_function_2 ():\n",
    "    my_variable = 20 # Local\n",
    "    print(\"my_function_2 - El valor de my_global_variable es: \", my_variable)\n",
    "\n",
    "def my_function_3 ():\n",
    "    print(\"my_function_2 - El valor de my_global_variable es: \", my_variable)"
   ]
  },
  {
   "cell_type": "code",
   "execution_count": null,
   "id": "8e1e1e3b-9129-48f9-bec6-eb7b0b8bfd72",
   "metadata": {},
   "outputs": [],
   "source": [
    "my_function_1 ()"
   ]
  },
  {
   "cell_type": "code",
   "execution_count": null,
   "id": "ef72d8bc-12de-4368-a6ff-ceb4fa965305",
   "metadata": {},
   "outputs": [],
   "source": [
    "my_function_2 ()"
   ]
  },
  {
   "cell_type": "code",
   "execution_count": null,
   "id": "d54ab7a4-6dd3-46aa-8f77-6f50be662c60",
   "metadata": {},
   "outputs": [],
   "source": [
    "my_function_3 ()"
   ]
  },
  {
   "cell_type": "markdown",
   "id": "9189d8e9-920f-46b5-9fa9-fa1b672ff0a8",
   "metadata": {},
   "source": [
    "# Variables Locales\n",
    "- Podemos usarlas dentro de una funcion\n",
    "- Podemos tener una restriccion al acceder a una variable local desde otra funcion\n",
    "- No podemos usarlas durante todo el programa\n",
    "- El alcance y visivilidad se limita al interior de la funcion\n",
    "- Lo que dure la funcion sera lo que dure el alcance de nuestra variable"
   ]
  },
  {
   "cell_type": "code",
   "execution_count": null,
   "id": "f6ee9dd8-612b-4a75-9596-7610fbf4a2fb",
   "metadata": {},
   "outputs": [],
   "source": [
    "# Variable Global\n",
    "my_global_variable = 50\n",
    "\n",
    "def my_function_1 ():\n",
    "    pass\n",
    "\n",
    "def my_function_2 ():\n",
    "    pass\n",
    "\n",
    "# Variables Locales\n",
    "\n",
    "def my_function_1 ():\n",
    "    my_local_variable = 5\n",
    "\n",
    "def my_function_2 ():\n",
    "    my_local_variable = 35"
   ]
  },
  {
   "cell_type": "code",
   "execution_count": null,
   "id": "073e1f30-1dcd-4c66-9529-450c650e9a06",
   "metadata": {},
   "outputs": [],
   "source": [
    "def my_function_1 ():\n",
    "    my_variable = 10 # Local\n",
    "    print(\"my_function_1 - El valor de my_global_variable es: \", my_variable)\n",
    "\n",
    "def my_function_2 ():\n",
    "    my_variable = 20 # Local\n",
    "    print(\"my_function_2 - El valor de my_global_variable es: \", my_variable)\n",
    "\n",
    "def my_function_3 ():\n",
    "    print(\"my_function_3 - El valor de my_global_variable es: \", my_variable)"
   ]
  },
  {
   "cell_type": "code",
   "execution_count": null,
   "id": "04af6f54-d64f-443f-bece-f703a5e79bf1",
   "metadata": {},
   "outputs": [],
   "source": [
    "my_function_1 ()"
   ]
  },
  {
   "cell_type": "code",
   "execution_count": null,
   "id": "2cb32ce4-d7f6-43bf-9ff0-9f96151f4cc5",
   "metadata": {},
   "outputs": [],
   "source": [
    "my_function_2 ()"
   ]
  },
  {
   "cell_type": "code",
   "execution_count": 1,
   "id": "6197352a-a1e4-4f1c-84d7-0e39fdda3e8b",
   "metadata": {},
   "outputs": [
    {
     "ename": "NameError",
     "evalue": "name 'my_function_3' is not defined",
     "output_type": "error",
     "traceback": [
      "\u001b[0;31m---------------------------------------------------------------------------\u001b[0m",
      "\u001b[0;31mNameError\u001b[0m                                 Traceback (most recent call last)",
      "Cell \u001b[0;32mIn[1], line 1\u001b[0m\n\u001b[0;32m----> 1\u001b[0m my_function_3 ()\n",
      "\u001b[0;31mNameError\u001b[0m: name 'my_function_3' is not defined"
     ]
    }
   ],
   "source": [
    "my_function_3 ()"
   ]
  },
  {
   "cell_type": "markdown",
   "id": "1df7d8b1-479d-421b-bead-f29529aad141",
   "metadata": {},
   "source": [
    "# Palabra reservada \"global\""
   ]
  },
  {
   "cell_type": "code",
   "execution_count": 2,
   "id": "11f8d6ee-9a79-494c-87fc-f7fa1d2a742e",
   "metadata": {},
   "outputs": [],
   "source": [
    "def my_function_1 ():\n",
    "    my_variable = 10 # Local\n",
    "    print(\"my_function_1 - El valor de my_global_variable es: \", my_variable)\n",
    "\n",
    "def my_function_2 ():\n",
    "    global my_variable # Global\n",
    "    my_variable = 20 \n",
    "    print(\"my_function_2 - El valor de my_global_variable es: \", my_variable)\n",
    "\n",
    "def my_function_3 ():\n",
    "    print(\"my_function_3 - El valor de my_global_variable es: \", my_variable)"
   ]
  },
  {
   "cell_type": "code",
   "execution_count": 3,
   "id": "7b3b9e34-7a23-47c1-97aa-cdc6f26656dd",
   "metadata": {},
   "outputs": [
    {
     "name": "stdout",
     "output_type": "stream",
     "text": [
      "my_function_1 - El valor de my_global_variable es:  10\n"
     ]
    }
   ],
   "source": [
    "my_function_1 ()"
   ]
  },
  {
   "cell_type": "code",
   "execution_count": 4,
   "id": "81254805-2415-414c-a3e6-0bb1535a7ddd",
   "metadata": {},
   "outputs": [
    {
     "name": "stdout",
     "output_type": "stream",
     "text": [
      "my_function_2 - El valor de my_global_variable es:  20\n"
     ]
    }
   ],
   "source": [
    "my_function_2 ()"
   ]
  },
  {
   "cell_type": "code",
   "execution_count": 5,
   "id": "0ff299d1-d5b5-4139-aa33-0b226e6e2fcb",
   "metadata": {},
   "outputs": [
    {
     "name": "stdout",
     "output_type": "stream",
     "text": [
      "my_function_3 - El valor de my_global_variable es:  20\n"
     ]
    }
   ],
   "source": [
    "my_function_3 ()"
   ]
  },
  {
   "cell_type": "code",
   "execution_count": 6,
   "id": "1956247d-d245-4225-87cc-fa1fbe361d16",
   "metadata": {},
   "outputs": [],
   "source": [
    "def my_function_1 ():\n",
    "    my_variable = 10 # Local\n",
    "    print(\"my_function_1 - El valor de my_global_variable es: \", my_variable)\n",
    "\n",
    "def my_function_2 ():\n",
    "    global a, b, c, d, e # Global\n",
    "    a=10\n",
    "    b=20\n",
    "    c=30\n",
    "    d=40\n",
    "    e=50\n",
    "    print(\"my_function_2 - El valor de a es: \", a)\n",
    "    print(\"my_function_2 - El valor de b es: \", b)\n",
    "    print(\"my_function_2 - El valor de c es: \", c)\n",
    "    print(\"my_function_2 - El valor de d es: \", d)\n",
    "    print(\"my_function_2 - El valor de e es: \", e)\n",
    "\n",
    "def my_function_3 ():\n",
    "    print(\"my_function_2 - El valor de a es: \", a)\n",
    "    print(\"my_function_2 - El valor de b es: \", b)\n",
    "    print(\"my_function_2 - El valor de c es: \", c)\n",
    "    print(\"my_function_2 - El valor de d es: \", d)\n",
    "    print(\"my_function_2 - El valor de e es: \", e)"
   ]
  },
  {
   "cell_type": "code",
   "execution_count": 7,
   "id": "32c9e6c9-51a0-48a4-85ee-3a36ba568007",
   "metadata": {},
   "outputs": [
    {
     "name": "stdout",
     "output_type": "stream",
     "text": [
      "my_function_1 - El valor de my_global_variable es:  10\n"
     ]
    }
   ],
   "source": [
    "my_function_1 ()"
   ]
  },
  {
   "cell_type": "code",
   "execution_count": 8,
   "id": "8960f523-9cee-4d84-9cf8-d00ec14cf425",
   "metadata": {},
   "outputs": [
    {
     "name": "stdout",
     "output_type": "stream",
     "text": [
      "my_function_2 - El valor de a es:  10\n",
      "my_function_2 - El valor de b es:  20\n",
      "my_function_2 - El valor de c es:  30\n",
      "my_function_2 - El valor de d es:  40\n",
      "my_function_2 - El valor de e es:  50\n"
     ]
    }
   ],
   "source": [
    "my_function_2()"
   ]
  },
  {
   "cell_type": "code",
   "execution_count": 9,
   "id": "f06f7203-2bf5-4712-9299-128c9a5417ee",
   "metadata": {},
   "outputs": [
    {
     "name": "stdout",
     "output_type": "stream",
     "text": [
      "my_function_2 - El valor de a es:  10\n",
      "my_function_2 - El valor de b es:  20\n",
      "my_function_2 - El valor de c es:  30\n",
      "my_function_2 - El valor de d es:  40\n",
      "my_function_2 - El valor de e es:  50\n"
     ]
    }
   ],
   "source": [
    "my_function_3 ()"
   ]
  },
  {
   "cell_type": "markdown",
   "id": "cecd055e-189e-499d-8d66-505e049b5177",
   "metadata": {},
   "source": [
    "# Tipos de Enteros\n",
    "- Forma decimal\n",
    "- Forma binaria\n",
    "- Forma octal\n",
    "- Forma hexadecimal"
   ]
  },
  {
   "cell_type": "markdown",
   "id": "c6d16e1c-9dd2-4bed-bd55-30f85c777369",
   "metadata": {},
   "source": [
    "# Forma decimal"
   ]
  },
  {
   "cell_type": "code",
   "execution_count": 12,
   "id": "8b031331-b443-4200-81b1-2203fa8f6c81",
   "metadata": {},
   "outputs": [
    {
     "name": "stdout",
     "output_type": "stream",
     "text": [
      "El valor de my_decimal_number es:  55\n"
     ]
    }
   ],
   "source": [
    "my_decimal_number = 55\n",
    "print(\"El valor de my_decimal_number es: \", my_decimal_number)"
   ]
  },
  {
   "cell_type": "code",
   "execution_count": 13,
   "id": "137194fd-0d3b-4a25-8227-f1ecfbf5a4ec",
   "metadata": {},
   "outputs": [
    {
     "name": "stdout",
     "output_type": "stream",
     "text": [
      "El valor de my_decimal_number es:  5598765432\n"
     ]
    }
   ],
   "source": [
    "my_decimal_number = 5598765432\n",
    "print(\"El valor de my_decimal_number es: \", my_decimal_number)"
   ]
  },
  {
   "cell_type": "code",
   "execution_count": 14,
   "id": "30ab1616-1a14-4047-9939-e3ee5a0853df",
   "metadata": {},
   "outputs": [
    {
     "ename": "SyntaxError",
     "evalue": "invalid decimal literal (3304785066.py, line 2)",
     "output_type": "error",
     "traceback": [
      "\u001b[0;36m  Cell \u001b[0;32mIn[14], line 2\u001b[0;36m\u001b[0m\n\u001b[0;31m    my_decimal_number = 5598765432d\u001b[0m\n\u001b[0m                                 ^\u001b[0m\n\u001b[0;31mSyntaxError\u001b[0m\u001b[0;31m:\u001b[0m invalid decimal literal\n"
     ]
    }
   ],
   "source": [
    "# Error\n",
    "my_decimal_number = 5598765432d\n",
    "print(\"El valor de my_decimal_number es: \", my_decimal_number)"
   ]
  },
  {
   "cell_type": "markdown",
   "id": "789a0337-35b3-4116-a83f-2057281540c6",
   "metadata": {},
   "source": [
    "# Forma Bonaria\n",
    "- Es un codigo que esta organizado en bytes\n",
    "- Lenguaje binario\n",
    "- Lenguaje de las maquinas, tiene 1 y 0\n",
    "\n",
    "  ### Valor base : 2\n",
    "\n",
    "- Solamente acepta dos digitos, el 1 y 0\n",
    "- Usamos el prefijo '0b' o '0B'"
   ]
  },
  {
   "cell_type": "code",
   "execution_count": 16,
   "id": "144db686-410e-4f4b-80eb-a434511a9da6",
   "metadata": {},
   "outputs": [
    {
     "name": "stdout",
     "output_type": "stream",
     "text": [
      "El valor de my_binary es:  3\n"
     ]
    }
   ],
   "source": [
    "my_binary_number = 0b11 # 1*2**1 + 1*2**0\n",
    "print(\"El valor de my_binary es: \", my_binary_number)"
   ]
  },
  {
   "cell_type": "code",
   "execution_count": 17,
   "id": "180482a8-9901-43ea-a92a-b83d22de409e",
   "metadata": {},
   "outputs": [
    {
     "name": "stdout",
     "output_type": "stream",
     "text": [
      "El valor de my_decimal_number es:  111\n"
     ]
    }
   ],
   "source": [
    "my_decimal_number = 111 \n",
    "print(\"El valor de my_decimal_number es: \", my_decimal_number)"
   ]
  },
  {
   "cell_type": "code",
   "execution_count": 18,
   "id": "d5829bfe-b79c-42fe-8502-09c3653616af",
   "metadata": {},
   "outputs": [
    {
     "name": "stdout",
     "output_type": "stream",
     "text": [
      "El valor de my_binary es:  7\n"
     ]
    }
   ],
   "source": [
    "my_binary_number = 0B111 # 1*2**2 + 1*2**1 + 1*2**0\n",
    "print(\"El valor de my_binary es: \", my_binary_number)"
   ]
  },
  {
   "cell_type": "markdown",
   "id": "42159416-a5d8-4309-b191-1d4d472e4180",
   "metadata": {},
   "source": [
    "# Forma Octal\n",
    "\n",
    "Valor vase: 8\n",
    "\n",
    "- Solamente acepta digitos del 0 al 7\n",
    "- Usamos el prefijo '0o' o '0O'\n"
   ]
  },
  {
   "cell_type": "code",
   "execution_count": 19,
   "id": "76bd5dc9-b10f-408a-8b10-23168d838e34",
   "metadata": {},
   "outputs": [
    {
     "name": "stdout",
     "output_type": "stream",
     "text": [
      "El valor de my_decimal_number es:  17\n"
     ]
    }
   ],
   "source": [
    "my_decimal_number = 17\n",
    "print(\"El valor de my_decimal_number es: \", my_decimal_number)"
   ]
  },
  {
   "cell_type": "code",
   "execution_count": 20,
   "id": "0078349d-b036-40ff-b806-9c13a9a5f6b2",
   "metadata": {},
   "outputs": [
    {
     "name": "stdout",
     "output_type": "stream",
     "text": [
      "El valor de my_octal_number es:  15\n"
     ]
    }
   ],
   "source": [
    "my_octal_number = 0o17 # 1*8**1 + 7*8**0\n",
    "print(\"El valor de my_octal_number es: \", my_octal_number)"
   ]
  },
  {
   "cell_type": "code",
   "execution_count": 21,
   "id": "33419e21-a5a5-47a4-ad5f-32048f241ce7",
   "metadata": {},
   "outputs": [
    {
     "name": "stdout",
     "output_type": "stream",
     "text": [
      "El valor de my_decimal_number es:  153\n"
     ]
    }
   ],
   "source": [
    "my_decimal_number = 153\n",
    "print(\"El valor de my_decimal_number es: \", my_decimal_number)"
   ]
  },
  {
   "cell_type": "code",
   "execution_count": 22,
   "id": "6312e176-faed-4c33-aa9b-6483de7b16c7",
   "metadata": {},
   "outputs": [
    {
     "name": "stdout",
     "output_type": "stream",
     "text": [
      "El valor de my_octal_number es:  107\n"
     ]
    }
   ],
   "source": [
    "my_octal_number = 0o153 # 1*8**2 + 5*8**1 + 3*8**0 (64+40+3)\n",
    "print(\"El valor de my_octal_number es: \", my_octal_number)"
   ]
  },
  {
   "cell_type": "markdown",
   "id": "79660c07-69e7-4781-9f68-f18f9d0fbe0a",
   "metadata": {},
   "source": [
    "# Forma Hexadecimal\n",
    "\n",
    "El valor base es: 16\n",
    "\n",
    "- Acepta digitos del 0 al 9\n",
    "- Acepta letras de la 'a' o 'A' a la 'f' o 'F'\n",
    "- Usamos el prefijo '0x' o '0X'\n",
    "\n",
    "- 1\n",
    "- 2\n",
    "- 3\n",
    "- 4\n",
    "- 5\n",
    "- 6\n",
    "- 7\n",
    "- 8\n",
    "- 9\n",
    "- A = 10\n",
    "- B = 11\n",
    "- C = 12\n",
    "- D = 13\n",
    "- E = 14\n",
    "- F = 15"
   ]
  },
  {
   "cell_type": "code",
   "execution_count": 23,
   "id": "090fe214-36b6-4e18-8a07-61065cb99975",
   "metadata": {},
   "outputs": [
    {
     "name": "stdout",
     "output_type": "stream",
     "text": [
      "El valor de my_decimal_number es:  17\n"
     ]
    }
   ],
   "source": [
    "my_decimal_number = 17\n",
    "print(\"El valor de my_decimal_number es: \", my_decimal_number)"
   ]
  },
  {
   "cell_type": "code",
   "execution_count": 24,
   "id": "e843b231-0957-4b26-8c6f-ad9c7d2783ed",
   "metadata": {},
   "outputs": [
    {
     "name": "stdout",
     "output_type": "stream",
     "text": [
      "El valor de my_hexa_number es:  23\n"
     ]
    }
   ],
   "source": [
    "my_hexa_number = 0x17 # 1*16**1 + 7*16**0 (16 + 7)\n",
    "print(\"El valor de my_hexa_number es: \", my_hexa_number)"
   ]
  },
  {
   "cell_type": "code",
   "execution_count": 25,
   "id": "ad9b6369-3ad6-4b46-bb9d-fbcc97be2f44",
   "metadata": {},
   "outputs": [
    {
     "name": "stdout",
     "output_type": "stream",
     "text": [
      "El valor de my_hexa_number es:  28\n"
     ]
    }
   ],
   "source": [
    "my_hexa_number = 0x1C # 1*16**1 + 12*16**0 (16 + 12)\n",
    "print(\"El valor de my_hexa_number es: \", my_hexa_number)"
   ]
  },
  {
   "cell_type": "code",
   "execution_count": null,
   "id": "ab624555-23da-4ab1-b9e6-c6029b38208c",
   "metadata": {},
   "outputs": [],
   "source": []
  }
 ],
 "metadata": {
  "kernelspec": {
   "display_name": "Python 3 (ipykernel)",
   "language": "python",
   "name": "python3"
  },
  "language_info": {
   "codemirror_mode": {
    "name": "ipython",
    "version": 3
   },
   "file_extension": ".py",
   "mimetype": "text/x-python",
   "name": "python",
   "nbconvert_exporter": "python",
   "pygments_lexer": "ipython3",
   "version": "3.11.7"
  }
 },
 "nbformat": 4,
 "nbformat_minor": 5
}
